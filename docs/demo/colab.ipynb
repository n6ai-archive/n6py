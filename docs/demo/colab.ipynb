{
 "cells": [
  {
   "cell_type": "code",
   "execution_count": null,
   "metadata": {},
   "outputs": [],
   "source": [
    "!pip install n6py --no-update"
   ]
  },
  {
   "cell_type": "code",
   "execution_count": null,
   "metadata": {},
   "outputs": [],
   "source": [
    "import n6py as n6\n",
    "\n",
    "change = n6.stats.n_changed(100, 50)\n",
    "print(change)"
   ]
  }
 ],
 "metadata": {
  "kernelspec": {
   "display_name": ".venv",
   "language": "python",
   "name": "python3"
  },
  "language_info": {
   "name": "python",
   "version": "3.9.13 (tags/v3.9.13:6de2ca5, May 17 2022, 16:36:42) [MSC v.1929 64 bit (AMD64)]"
  },
  "orig_nbformat": 4,
  "vscode": {
   "interpreter": {
    "hash": "19d8e8fd100b3c64e01c50c5a9bb83eb671bbab4ac3612a952bc6378ed9ad8b2"
   }
  }
 },
 "nbformat": 4,
 "nbformat_minor": 2
}
